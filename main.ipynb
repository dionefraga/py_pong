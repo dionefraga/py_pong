{
 "cells": [
  {
   "cell_type": "code",
   "execution_count": null,
   "id": "285f6ebf-6bbd-41dd-8bf0-5c7fac4cab35",
   "metadata": {},
   "outputs": [
    {
     "name": "stdout",
     "output_type": "stream",
     "text": [
      "importing Jupyter notebook from paddle.ipynb\n",
      "importing Jupyter notebook from ball.ipynb\n",
      "importing Jupyter notebook from score.ipynb\n"
     ]
    }
   ],
   "source": [
    "import import_ipynb\n",
    "from turtle import Screen\n",
    "from paddle import Paddle\n",
    "from ball import Ball\n",
    "import time\n",
    "from score import Scoreboard\n",
    "\n",
    "\n",
    "myscreen = Screen()\n",
    "myscreen.setup(800,600)\n",
    "myscreen.bgcolor(\"black\")\n",
    "myscreen.title(\"My pong game\")\n",
    "myscreen.tracer(0)\n",
    "\n",
    "p1 = Paddle(350,0)\n",
    "p2 = Paddle(-350,0)\n",
    "ball = Ball()\n",
    "score = Scoreboard()\n",
    "\n",
    "myscreen.listen()\n",
    "myscreen.onkey(p1.up, \"Up\")\n",
    "myscreen.onkey(p1.down, \"Down\")\n",
    "myscreen.onkey(p2.up, \"w\")\n",
    "myscreen.onkey(p2.down, \"s\")\n",
    "\n",
    "game_is_on = True\n",
    "while game_is_on:\n",
    "    myscreen.update()\n",
    "    time.sleep(ball.ball_speed)\n",
    "    ball.move()\n",
    "\n",
    "    # colision with wall\n",
    "    if ball.ycor() > 280 or ball.ycor() < -280:\n",
    "        ball.bounce_y()\n",
    "\n",
    "    # colision with paddle\n",
    "    if (ball.distance(p1) < 50 and ball.xcor() > 320) or (ball.distance(p2) < 50 and ball.xcor() < -320):\n",
    "         ball.bounce_x()\n",
    "            \n",
    "    \n",
    "    if ball.xcor() > 380:\n",
    "        ball.reset_position()\n",
    "        score.p1_score()\n",
    "        \n",
    "\n",
    "    if ball.xcor() < -380:\n",
    "        ball.reset_position()\n",
    "        score.p2_score()\n",
    "\n",
    "myscreen.exitonclick()"
   ]
  },
  {
   "cell_type": "code",
   "execution_count": null,
   "id": "e7b19fc2-d7f5-4b0e-ae8e-3a2f521bedbe",
   "metadata": {},
   "outputs": [],
   "source": []
  },
  {
   "cell_type": "code",
   "execution_count": null,
   "id": "b465b587-4f84-490e-a5df-ade990e6288d",
   "metadata": {},
   "outputs": [],
   "source": []
  }
 ],
 "metadata": {
  "kernelspec": {
   "display_name": "Python 3 (ipykernel)",
   "language": "python",
   "name": "python3"
  },
  "language_info": {
   "codemirror_mode": {
    "name": "ipython",
    "version": 3
   },
   "file_extension": ".py",
   "mimetype": "text/x-python",
   "name": "python",
   "nbconvert_exporter": "python",
   "pygments_lexer": "ipython3",
   "version": "3.9.13"
  }
 },
 "nbformat": 4,
 "nbformat_minor": 5
}
