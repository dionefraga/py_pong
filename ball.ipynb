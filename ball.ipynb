{
 "cells": [
  {
   "cell_type": "code",
   "execution_count": 6,
   "id": "ae840f82-fbc0-453f-a655-d39eba499d2c",
   "metadata": {},
   "outputs": [],
   "source": [
    "from turtle import Turtle\n",
    "\n",
    "\n",
    "class Ball(Turtle):\n",
    "    \n",
    "    def __init__(self):\n",
    "        super().__init__()\n",
    "        self.shape(\"circle\")\n",
    "        self.penup()\n",
    "        self.color(\"green\")\n",
    "        self.x_move = 10\n",
    "        self.y_move = 10\n",
    "        self.ball_speed = 0.1\n",
    "        \n",
    "    def move(self):\n",
    "        x_cor = self.xcor() + self.x_move\n",
    "        y_cor = self.ycor() + self.y_move\n",
    "        self.goto(x_cor, y_cor)\n",
    "        #print(f\"x: {x_cor} / y: {y_cor} \")\n",
    "    \n",
    "    \n",
    "    def bounce_y(self):\n",
    "        self.y_move *= -1\n",
    "        \n",
    "    \n",
    "    def bounce_x(self):\n",
    "        self.x_move *= -1\n",
    "        self.increase_speed()\n",
    "        \n",
    "    \n",
    "    def reset_position(self):\n",
    "        self.goto(0,0)\n",
    "        self.ball_speed = 0.1\n",
    "        self.bounce_x()\n",
    "        \n",
    "    \n",
    "    def increase_speed(self):\n",
    "        if self.ball_speed - 0.01 > 0:\n",
    "            self.ball_speed *= 0.9\n",
    "\n",
    "        \n",
    "\n",
    "        "
   ]
  },
  {
   "cell_type": "code",
   "execution_count": null,
   "id": "2edbfd9d-1b47-4a94-8434-9a3919299a69",
   "metadata": {},
   "outputs": [],
   "source": []
  },
  {
   "cell_type": "code",
   "execution_count": null,
   "id": "7c4e1a73-6036-4699-b268-f303fa825ee6",
   "metadata": {},
   "outputs": [],
   "source": []
  }
 ],
 "metadata": {
  "kernelspec": {
   "display_name": "Python 3 (ipykernel)",
   "language": "python",
   "name": "python3"
  },
  "language_info": {
   "codemirror_mode": {
    "name": "ipython",
    "version": 3
   },
   "file_extension": ".py",
   "mimetype": "text/x-python",
   "name": "python",
   "nbconvert_exporter": "python",
   "pygments_lexer": "ipython3",
   "version": "3.9.13"
  }
 },
 "nbformat": 4,
 "nbformat_minor": 5
}
