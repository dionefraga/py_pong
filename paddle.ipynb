{
 "cells": [
  {
   "cell_type": "code",
   "execution_count": 25,
   "id": "337589f1-af79-4560-9e83-899200a90d9d",
   "metadata": {},
   "outputs": [],
   "source": [
    "from turtle import Turtle\n",
    "\n",
    "FORM_WID = 5\n",
    "FORM_LEN = 1\n",
    "\n",
    "class Paddle(Turtle):\n",
    "    \n",
    "    def __init__(self,x,y):\n",
    "        super().__init__()\n",
    "        self.shape(\"square\")\n",
    "        self.penup()\n",
    "        self.color(\"white\")\n",
    "        self.shapesize(FORM_WID, FORM_LEN)\n",
    "        self.speed(\"fastest\")\n",
    "        self.goto(x,y)\n",
    "        \n",
    "        \n",
    "    def up(self):\n",
    "        y_cor = self.ycor() + 20\n",
    "        self.goto(self.xcor(), y_cor)\n",
    "    \n",
    "    def down(self):\n",
    "        y_cor = self.ycor() - 20\n",
    "        self.goto(self.xcor(), y_cor)\n",
    "        \n"
   ]
  },
  {
   "cell_type": "code",
   "execution_count": null,
   "id": "0c3e0abe-4ee5-40f1-84b3-123948a94934",
   "metadata": {},
   "outputs": [],
   "source": []
  },
  {
   "cell_type": "code",
   "execution_count": null,
   "id": "69ba42db-0b8d-4546-86ba-6b1908972125",
   "metadata": {},
   "outputs": [],
   "source": []
  }
 ],
 "metadata": {
  "kernelspec": {
   "display_name": "Python 3 (ipykernel)",
   "language": "python",
   "name": "python3"
  },
  "language_info": {
   "codemirror_mode": {
    "name": "ipython",
    "version": 3
   },
   "file_extension": ".py",
   "mimetype": "text/x-python",
   "name": "python",
   "nbconvert_exporter": "python",
   "pygments_lexer": "ipython3",
   "version": "3.9.13"
  }
 },
 "nbformat": 4,
 "nbformat_minor": 5
}
