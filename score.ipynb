{
 "cells": [
  {
   "cell_type": "code",
   "execution_count": 3,
   "id": "3d1071f1-785f-4775-843c-ef46ccd7cb12",
   "metadata": {},
   "outputs": [],
   "source": [
    "from turtle import Turtle\n",
    "ALIGN = \"center\"\n",
    "FONT = (\"Arial\", \"24\", \"normal\")\n",
    "\n",
    "class Scoreboard(Turtle):\n",
    "    \n",
    "    def __init__(self):\n",
    "        super().__init__()\n",
    "        self.score_p1 = 0\n",
    "        self.score_p2 = 0\n",
    "        self.color(\"white\")\n",
    "        self.hideturtle()\n",
    "        self.penup()\n",
    "        self.speed(\"fastest\")\n",
    "        self.goto(0,270)\n",
    "        self.update_score()\n",
    "        \n",
    "    \n",
    "    def update_score(self):\n",
    "        self.clear()\n",
    "        self.goto(-100,200)\n",
    "        self.write(self.score_p1, align = ALIGN, font = FONT)\n",
    "        self.goto(100,200)\n",
    "        self.write(self.score_p2, align = ALIGN, font = FONT)\n",
    "    \n",
    "    def p1_score(self):\n",
    "        self.score_p1 +=1\n",
    "        self.update_score()\n",
    "        \n",
    "    def p2_score(self):\n",
    "        self.score_p2 +=1\n",
    "        self.update_score()\n",
    "        \n",
    "    def game_over(self):\n",
    "        self.goto(0,0)\n",
    "        self.write(\"Game Over\", align = ALIGN, font = FONT)"
   ]
  },
  {
   "cell_type": "code",
   "execution_count": 7,
   "id": "d330587d-4323-4440-9946-07486ae8660d",
   "metadata": {},
   "outputs": [],
   "source": []
  },
  {
   "cell_type": "code",
   "execution_count": null,
   "id": "ce4729d2-0190-48d2-b94e-e05bed979b72",
   "metadata": {},
   "outputs": [],
   "source": []
  }
 ],
 "metadata": {
  "kernelspec": {
   "display_name": "Python 3 (ipykernel)",
   "language": "python",
   "name": "python3"
  },
  "language_info": {
   "codemirror_mode": {
    "name": "ipython",
    "version": 3
   },
   "file_extension": ".py",
   "mimetype": "text/x-python",
   "name": "python",
   "nbconvert_exporter": "python",
   "pygments_lexer": "ipython3",
   "version": "3.9.13"
  }
 },
 "nbformat": 4,
 "nbformat_minor": 5
}
